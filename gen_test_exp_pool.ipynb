{
 "cells": [
  {
   "cell_type": "code",
   "execution_count": 1,
   "metadata": {},
   "outputs": [],
   "source": [
    "csv_path = r\"C:\\Users\\User\\Documents\\ADR\\encoded_file.csv\""
   ]
  },
  {
   "cell_type": "code",
   "execution_count": 2,
   "metadata": {},
   "outputs": [
    {
     "data": {
      "text/plain": [
       "{0: 'encoded_CCA_0.csv', 1: 'encoded_CCA_1.csv', 2: 'encoded_CCA_2.csv'}"
      ]
     },
     "execution_count": 2,
     "metadata": {},
     "output_type": "execute_result"
    }
   ],
   "source": [
    "import pandas as pd\n",
    "df = pd.read_csv(csv_path)\n",
    "\n",
    "# Split the data into separate DataFrames based on the CCAs column\n",
    "cca_groups = df.groupby('CCAs')\n",
    "\n",
    "\n",
    "# Save each group as a separate CSV file\n",
    "output_paths = {}\n",
    "for cca, group in cca_groups:\n",
    "    output_file = f'encoded_CCA_{cca}.csv'\n",
    "    group.to_csv(output_file, index=False)\n",
    "    output_paths[cca] = output_file\n",
    "\n",
    "output_paths\n"
   ]
  },
  {
   "cell_type": "code",
   "execution_count": null,
   "metadata": {},
   "outputs": [],
   "source": []
  }
 ],
 "metadata": {
  "kernelspec": {
   "display_name": "vizenv",
   "language": "python",
   "name": "python3"
  },
  "language_info": {
   "codemirror_mode": {
    "name": "ipython",
    "version": 3
   },
   "file_extension": ".py",
   "mimetype": "text/x-python",
   "name": "python",
   "nbconvert_exporter": "python",
   "pygments_lexer": "ipython3",
   "version": "3.12.7"
  }
 },
 "nbformat": 4,
 "nbformat_minor": 2
}
